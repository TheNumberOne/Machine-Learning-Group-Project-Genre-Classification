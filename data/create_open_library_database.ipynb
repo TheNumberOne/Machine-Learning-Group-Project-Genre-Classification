{
 "cells": [
  {
   "cell_type": "code",
   "execution_count": 1,
   "metadata": {},
   "outputs": [],
   "source": [
    "import sqlite3\n",
    "from sqlite3 import Error"
   ]
  },
  {
   "cell_type": "code",
   "execution_count": 14,
   "metadata": {},
   "outputs": [
    {
     "name": "stdout",
     "output_type": "stream",
     "text": [
      "2.6.0\n"
     ]
    }
   ],
   "source": [
    "def create_connection():\n",
    "    \"\"\" create a database connection to a SQLite database \"\"\"\n",
    "    conn = sqlite3.connect(\"raw_open_library/openlibrary.sqlite3\")\n",
    "    print(sqlite3.version)\n",
    "    return conn\n",
    "\n",
    "def create_tables(conn):\n",
    "    curs = connection.cursor()\n",
    "    curs.execute('''create table if not exists genres (genre_id integer primary key, description string)''')\n",
    "    curs.execute('create table if not exists books (open_library_id integer primary key, title text, author text)')\n",
    "    curs.execute('''\n",
    "        create table if not exists books_to_genres (\n",
    "            open_library_id integer,\n",
    "            genre_id integer,\n",
    "            foreign key(open_library_id) references books(open_library_id),\n",
    "            foreign key(genre_id) references genres(genre_id)\n",
    "        )\n",
    "    ''')\n",
    "    \n",
    "with create_connection() as connection:\n",
    "    create_tables(connection)"
   ]
  }
 ],
 "metadata": {
  "kernelspec": {
   "display_name": "Python 3",
   "language": "python",
   "name": "python3"
  },
  "language_info": {
   "codemirror_mode": {
    "name": "ipython",
    "version": 3
   },
   "file_extension": ".py",
   "mimetype": "text/x-python",
   "name": "python",
   "nbconvert_exporter": "python",
   "pygments_lexer": "ipython3",
   "version": "3.7.4"
  }
 },
 "nbformat": 4,
 "nbformat_minor": 4
}
