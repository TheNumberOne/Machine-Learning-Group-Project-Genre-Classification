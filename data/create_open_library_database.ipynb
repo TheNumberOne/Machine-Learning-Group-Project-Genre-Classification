{
 "cells": [
  {
   "cell_type": "code",
   "execution_count": 2,
   "metadata": {},
   "outputs": [
    {
     "data": {
      "text/plain": [
       "131072"
      ]
     },
     "execution_count": 2,
     "metadata": {},
     "output_type": "execute_result"
    }
   ],
   "source": [
    "import sqlite3\n",
    "from sqlite3 import Error\n",
    "import csv\n",
    "import json\n",
    "import itertools\n",
    "import sys\n",
    "\n",
    "# some fields are absolute units\n",
    "csv.field_size_limit(sys.maxsize)"
   ]
  },
  {
   "cell_type": "code",
   "execution_count": 11,
   "metadata": {},
   "outputs": [
    {
     "name": "stdout",
     "output_type": "stream",
     "text": [
      "2.6.0\n"
     ]
    }
   ],
   "source": [
    "def create_connection():\n",
    "    \"\"\" create a database connection to a SQLite database \"\"\"\n",
    "    conn = sqlite3.connect(\"raw_open_library/openlibrary.sqlite3\")\n",
    "    print(sqlite3.version)\n",
    "    return conn\n",
    "\n",
    "def create_tables(conn):\n",
    "    curs = conn.cursor()\n",
    "    curs.execute('''\n",
    "        create table if not exists authors (\n",
    "            author_id text primary key,\n",
    "            name text\n",
    "        )\n",
    "    ''')\n",
    "    curs.execute('''create table if not exists books (\n",
    "        book_id text primary key, \n",
    "        title text, \n",
    "        author_ids text,\n",
    "        genres text\n",
    "    )''')\n",
    "    \n",
    "    \n",
    "def get_sql_book_data(lines):\n",
    "    for ol_type, ol_id, revision, last_modified, record_json in lines:\n",
    "        # only process editions\n",
    "        if ol_type != \"/type/edition\":\n",
    "            continue\n",
    "\n",
    "        record = json.loads(record_json)\n",
    "\n",
    "        # useless record\n",
    "        if \"title\" not in record or \"authors\" not in record or \"genres\" not in record:\n",
    "            continue\n",
    "\n",
    "        # extract data\n",
    "        title = record[\"title\"]\n",
    "\n",
    "        # convert [{\"key\": \"id1\"}, {\"key\": \"id2\"}] to [\"id1\", \"id2\"]\n",
    "        authors = [d[\"key\"] for d in record[\"authors\"]]\n",
    "        authors_json = json.dumps(authors)\n",
    "\n",
    "        genres = record[\"genres\"]\n",
    "        genres_json = json.dumps(genres)\n",
    "        yield ol_id, title, authors_json, genres_json\n",
    "        \n",
    "        \n",
    "def get_sql_author_data(lines):\n",
    "    for ol_type, ol_id, revision, last_modified, record_json in lines:\n",
    "        # ignore non-authors\n",
    "        if ol_type != \"/type/author\":\n",
    "            continue\n",
    "            \n",
    "        record = json.loads(record_json)\n",
    "        \n",
    "        if \"name\" not in record:\n",
    "            continue\n",
    "        title = record[\"name\"]\n",
    "        yield ol_id, title\n",
    "        \n",
    "def add_authors_to_database(conn, data):\n",
    "    conn.executemany('''\n",
    "        insert into authors(author_id, name)\n",
    "        values (?, ?)\n",
    "    ''', data)\n",
    "    \n",
    "def add_books_to_database(conn, data):\n",
    "    conn.executemany('''\n",
    "        insert into books(book_id, title, author_ids, genres)\n",
    "        values (?, ?, ?, ?)\n",
    "    ''', data)\n",
    "\n",
    "def create_indices(conn):\n",
    "    conn.execute('''\n",
    "        create index if not exists books_title_index\n",
    "        on books (title collate nocase);\n",
    "    ''')\n",
    "    conn.execute('''\n",
    "        create index if not exists authors_name_index\n",
    "        on authors (name collate nocase);\n",
    "    ''')\n",
    "    \n",
    "processed_authors = True\n",
    "processed_books = True\n",
    "    \n",
    "with create_connection() as conn:\n",
    "    create_tables(conn)\n",
    "    if not processed_authors:\n",
    "        with open(\"raw_open_library/all_metadata.txt\") as file:\n",
    "            lines = csv.reader(file, dialect=\"excel-tab\")\n",
    "            add_authors_to_database(conn, get_sql_author_data(lines))\n",
    "    \n",
    "    if not processed_books:\n",
    "        with open(\"raw_open_library/all_metadata.txt\") as file:\n",
    "            lines = csv.reader(file, dialect=\"excel-tab\")\n",
    "            add_books_to_database(conn, get_sql_book_data(lines))\n",
    "            \n",
    "    create_indices(conn)"
   ]
  }
 ],
 "metadata": {
  "kernelspec": {
   "display_name": "Python 3",
   "language": "python",
   "name": "python3"
  },
  "language_info": {
   "codemirror_mode": {
    "name": "ipython",
    "version": 3
   },
   "file_extension": ".py",
   "mimetype": "text/x-python",
   "name": "python",
   "nbconvert_exporter": "python",
   "pygments_lexer": "ipython3",
   "version": "3.8.0"
  }
 },
 "nbformat": 4,
 "nbformat_minor": 4
}
