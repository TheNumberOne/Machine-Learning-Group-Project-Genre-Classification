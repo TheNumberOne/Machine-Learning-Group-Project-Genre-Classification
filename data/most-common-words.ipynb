{
 "cells": [
  {
   "cell_type": "code",
   "execution_count": 1,
   "metadata": {},
   "outputs": [],
   "source": [
    "import pandas as pd\n",
    "from extract_words import extract_words\n",
    "from collections import Counter"
   ]
  },
  {
   "cell_type": "code",
   "execution_count": 2,
   "metadata": {},
   "outputs": [
    {
     "data": {
      "text/html": [
       "<div>\n",
       "<style scoped>\n",
       "    .dataframe tbody tr th:only-of-type {\n",
       "        vertical-align: middle;\n",
       "    }\n",
       "\n",
       "    .dataframe tbody tr th {\n",
       "        vertical-align: top;\n",
       "    }\n",
       "\n",
       "    .dataframe thead th {\n",
       "        text-align: right;\n",
       "    }\n",
       "</style>\n",
       "<table border=\"1\" class=\"dataframe\">\n",
       "  <thead>\n",
       "    <tr style=\"text-align: right;\">\n",
       "      <th></th>\n",
       "      <th>title</th>\n",
       "    </tr>\n",
       "    <tr>\n",
       "      <th>gutenberg id</th>\n",
       "      <th></th>\n",
       "    </tr>\n",
       "  </thead>\n",
       "  <tbody>\n",
       "    <tr>\n",
       "      <th>10001</th>\n",
       "      <td>Apocolocyntosis</td>\n",
       "    </tr>\n",
       "    <tr>\n",
       "      <th>10002</th>\n",
       "      <td>The House on the Borderland</td>\n",
       "    </tr>\n",
       "    <tr>\n",
       "      <th>10003</th>\n",
       "      <td>My First Years As A Frenchwoman, 1876-1879</td>\n",
       "    </tr>\n",
       "    <tr>\n",
       "      <th>10004</th>\n",
       "      <td>The Warriors</td>\n",
       "    </tr>\n",
       "    <tr>\n",
       "      <th>10005</th>\n",
       "      <td>A Voyage to the Moon</td>\n",
       "    </tr>\n",
       "    <tr>\n",
       "      <th>...</th>\n",
       "      <td>...</td>\n",
       "    </tr>\n",
       "    <tr>\n",
       "      <th>9628</th>\n",
       "      <td>Buried Cities: Pompeii, Olympia, Mycenae</td>\n",
       "    </tr>\n",
       "    <tr>\n",
       "      <th>98</th>\n",
       "      <td>A Tale of Two Cities</td>\n",
       "    </tr>\n",
       "    <tr>\n",
       "      <th>9943</th>\n",
       "      <td>Journal of an Expedition into the Interior of ...</td>\n",
       "    </tr>\n",
       "    <tr>\n",
       "      <th>9958</th>\n",
       "      <td>Explorations in Australia</td>\n",
       "    </tr>\n",
       "    <tr>\n",
       "      <th>9973</th>\n",
       "      <td>Yorkshire Painted And Described</td>\n",
       "    </tr>\n",
       "  </tbody>\n",
       "</table>\n",
       "<p>4213 rows × 1 columns</p>\n",
       "</div>"
      ],
      "text/plain": [
       "                                                          title\n",
       "gutenberg id                                                   \n",
       "10001                                           Apocolocyntosis\n",
       "10002                               The House on the Borderland\n",
       "10003                My First Years As A Frenchwoman, 1876-1879\n",
       "10004                                              The Warriors\n",
       "10005                                      A Voyage to the Moon\n",
       "...                                                         ...\n",
       "9628                   Buried Cities: Pompeii, Olympia, Mycenae\n",
       "98                                         A Tale of Two Cities\n",
       "9943          Journal of an Expedition into the Interior of ...\n",
       "9958                                  Explorations in Australia\n",
       "9973                            Yorkshire Painted And Described\n",
       "\n",
       "[4213 rows x 1 columns]"
      ]
     },
     "execution_count": 2,
     "metadata": {},
     "output_type": "execute_result"
    }
   ],
   "source": [
    "\n",
    "data = pd.read_csv('gutenberg.csv', index_col='gutenberg id')\n",
    "data"
   ]
  },
  {
   "cell_type": "code",
   "execution_count": 3,
   "metadata": {},
   "outputs": [
    {
     "name": "stdout",
     "output_type": "stream",
     "text": [
      "book 11522 'charmap' codec can't decode byte 0x8f in position 11467: character maps to <undefined>\n",
      "book 12538 'charmap' codec can't decode byte 0x81 in position 116505: character maps to <undefined>\n",
      "book 12746 'cp949' codec can't decode byte 0xb6 in position 52319: illegal multibyte sequence\n",
      "book 12868 'cp949' codec can't decode byte 0xb6 in position 24190: illegal multibyte sequence\n",
      "book 12930 'utf-8' codec can't decode byte 0xe8 in position 875: invalid continuation byte\n",
      "book 13558 'cp949' codec can't decode byte 0xb6 in position 60079: illegal multibyte sequence\n"
     ]
    }
   ],
   "source": [
    "words = Counter()\n",
    "for gutenberg_id in data.index:\n",
    "    words.update(extract_words(gutenberg_id))"
   ]
  },
  {
   "cell_type": "code",
   "execution_count": 6,
   "metadata": {},
   "outputs": [],
   "source": [
    "most_common = words.most_common(1000)"
   ]
  },
  {
   "cell_type": "code",
   "execution_count": 9,
   "metadata": {},
   "outputs": [],
   "source": [
    "most_common_pd = pd.DataFrame(data=most_common, columns=[\"words\", \"freq\"])\n",
    "most_common_pd.to_csv(\"most-common-words.csv\")"
   ]
  }
 ],
 "metadata": {
  "kernelspec": {
   "display_name": "Python 3",
   "language": "python",
   "name": "python3"
  },
  "language_info": {
   "codemirror_mode": {
    "name": "ipython",
    "version": 3
   },
   "file_extension": ".py",
   "mimetype": "text/x-python",
   "name": "python",
   "nbconvert_exporter": "python",
   "pygments_lexer": "ipython3",
   "version": "3.7.4"
  }
 },
 "nbformat": 4,
 "nbformat_minor": 4
}
