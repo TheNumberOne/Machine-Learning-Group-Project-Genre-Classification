{
 "cells": [
  {
   "cell_type": "code",
   "execution_count": 32,
   "metadata": {},
   "outputs": [],
   "source": [
    "import sqlite3\n",
    "import pandas as pd\n",
    "from create_open_library_database import create_connection\n",
    "import json"
   ]
  },
  {
   "cell_type": "code",
   "execution_count": 107,
   "metadata": {},
   "outputs": [
    {
     "name": "stdout",
     "output_type": "stream",
     "text": [
      "2.6.0\n"
     ]
    }
   ],
   "source": [
    "conn = create_connection()\n",
    "\n",
    "def normalize_genre(genre):\n",
    "    if genre.endswith('.'):\n",
    "        genre = genre[:-1]\n",
    "    \n",
    "    genre = genre.lower()\n",
    "        \n",
    "    return genre\n",
    "\n",
    "def get_genre(title, author):\n",
    "    cur = conn.cursor()\n",
    "    cur.execute(\"select genres from books where title=? collate nocase\", [str(title).lower()])\n",
    "    rows = cur.fetchall()\n",
    "    if len(rows) != 1:\n",
    "        return None\n",
    "    \n",
    "    genres = json.loads(rows[0][0])\n",
    "    genres = { normalize_genre(genre) for genre in genres }\n",
    "    \n",
    "    if len(genres) != 1:\n",
    "        return None\n",
    "    \n",
    "    genre, = genres\n",
    "        \n",
    "    return genre\n",
    "\n",
    "data = pd.read_csv(\"gutenberg-with-authors.csv\", index_col=\"gutenberg id\")\n",
    "\n",
    "genres = data[['title', 'authors']].apply(lambda x: get_genre(*x), axis=1)\n",
    "genres = genres[~genres.isnull()]\n",
    "conn.close()"
   ]
  },
  {
   "cell_type": "code",
   "execution_count": 109,
   "metadata": {},
   "outputs": [],
   "source": [
    "genres_frame = genres.to_frame()\n",
    "genres_frame.columns = ['genres']\n",
    "\n",
    "data_with_genres = pd.merge(data, genres_frame, how='inner', left_index=True, right_index=True)\n",
    "data_with_genres.to_csv(\"gutenberg_with_authors_genres.csv\")"
   ]
  }
 ],
 "metadata": {
  "kernelspec": {
   "display_name": "Python 3",
   "language": "python",
   "name": "python3"
  },
  "language_info": {
   "codemirror_mode": {
    "name": "ipython",
    "version": 3
   },
   "file_extension": ".py",
   "mimetype": "text/x-python",
   "name": "python",
   "nbconvert_exporter": "python",
   "pygments_lexer": "ipython3",
   "version": "3.7.4"
  }
 },
 "nbformat": 4,
 "nbformat_minor": 4
}
